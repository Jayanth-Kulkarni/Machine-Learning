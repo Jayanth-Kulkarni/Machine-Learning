{
 "cells": [
  {
   "cell_type": "markdown",
   "metadata": {
    "collapsed": true
   },
   "source": [
    "# Eucledian Distance\n",
    "* Q is the data point and p is the neighbour to compare.\n",
    "![title](class5.png)\n",
    "\n",
    "# Comparison to Sklearn\n",
    "* "
   ]
  },
  {
   "cell_type": "code",
   "execution_count": 15,
   "metadata": {
    "collapsed": false
   },
   "outputs": [
    {
     "name": "stdout",
     "output_type": "stream",
     "text": [
      "2.2360679775\n",
      "('r', 3)\n",
      "r\n"
     ]
    }
   ],
   "source": [
    "import numpy as np\n",
    "from math import sqrt\n",
    "import matplotlib.pyplot as plt\n",
    "import warnings\n",
    "from matplotlib import style\n",
    "from collections import Counter\n",
    "import pandas as pd\n",
    "import random\n",
    "style.use('fivethirtyeight')\n",
    "\n",
    "plot1 = [1,3]\n",
    "plot2 = [2,5]\n",
    "\n",
    "eucledian_distance = sqrt((plot1[0]-plot2[0])**2 + (plot1[1]-plot2[1])**2 )\n",
    "print(eucledian_distance)\n",
    "\n",
    "\n",
    "dataset = {'k':[[1,2],[2,3],[3,1]],'r':[[6,5],[7,7],[8,6]]}\n",
    "new_features = [5,7]\n",
    "\n",
    "\n",
    "def k_nearest_neighbors(data,predict,k=3):\n",
    "    if len(data) >= k:\n",
    "        warnings.warn('K is set to a value less than total groups!')\n",
    "    distances = []\n",
    "    for group in data:\n",
    "        for features in data[group]:\n",
    "           # eucledian_distance = np.sqrt(np.sum((np.array(features)-np.array(predict))**2))\n",
    "            eucledian_distance = np.linalg.norm(np.array(features)-np.array(predict))\n",
    "            distances.append([eucledian_distance, group])\n",
    "    votes = [i[1] for i in sorted(distances)[:k]]\n",
    "    print(Counter(votes).most_common(1)[0])\n",
    "    vote_result = Counter(votes).most_common(1)[0][0]\n",
    "                \n",
    "    return vote_result\n",
    "\n",
    "result = k_nearest_neighbors(dataset,new_features,k=3)\n",
    "print(result)\n",
    "\n",
    "for i in dataset:\n",
    "    for ii in dataset[i]:\n",
    "        plt.scatter(ii[0],ii[1],s=100,color=i)\n",
    "plt.scatter(new_features[0],new_features[1],color = result)\n",
    "plt.show()\n",
    "\n",
    "\n",
    "#comparison with sklearn\n",
    "\n",
    "df = pd.read_csv(\"breast-cancer-wisconsin.data\")\n",
    "df.replace('?',-99999,inplace= True)\n",
    "df.drop(['id'],1,inplace=True)\n",
    "full_data = df.astype(float).values.tolist()\n",
    "random.shuffle(full_data)\n",
    "\n",
    "# 2 for malignant 4 for benign\n",
    "test_size = 0.2\n",
    "train_set = {2:[], 4:[]}\n",
    "test_set = {2:[], 4:[]}\n",
    "train_data = full_data[:-int(test_size*len(full_data))]\n",
    "test_data = full_data[-int(test_size*len(full_data)):]\n",
    "\n",
    "for i in train_data:\n",
    "    train_set[i[-1]].append(i[:-1])\n",
    "    \n",
    "for i in test_data:\n",
    "    test_set[i[-1]].append(i[:-1])"
   ]
  }
 ],
 "metadata": {
  "kernelspec": {
   "display_name": "Python [Root]",
   "language": "python",
   "name": "Python [Root]"
  },
  "language_info": {
   "codemirror_mode": {
    "name": "ipython",
    "version": 2
   },
   "file_extension": ".py",
   "mimetype": "text/x-python",
   "name": "python",
   "nbconvert_exporter": "python",
   "pygments_lexer": "ipython2",
   "version": "2.7.12"
  }
 },
 "nbformat": 4,
 "nbformat_minor": 0
}
