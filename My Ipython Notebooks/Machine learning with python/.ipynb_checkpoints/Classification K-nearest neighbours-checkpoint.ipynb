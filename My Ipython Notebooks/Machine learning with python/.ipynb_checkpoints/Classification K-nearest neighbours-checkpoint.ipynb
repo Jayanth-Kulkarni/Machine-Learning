{
 "cells": [
  {
   "cell_type": "markdown",
   "metadata": {
    "nbpresent": {
     "id": "a00b1b77-c248-49ef-815d-a70b08b2aca5"
    }
   },
   "source": [
    "# Introduction\n",
    "\n",
    "* How to seperate data into obvious groups\n",
    "![title](class1.png)\n",
    "\n",
    "* To create model that filts both the groups that divides the + and -\n",
    "![title](class2.png)\n",
    "\n",
    "* Assigning an unknown data to a group\n",
    "![title](class3.png)\n",
    "\n",
    "* Classification is based on proximity in other words nearest neighbours\n",
    "![title](class4.png)\n",
    "\n"
   ]
  },
  {
   "cell_type": "code",
   "execution_count": 1,
   "metadata": {
    "collapsed": false,
    "nbpresent": {
     "id": "f8c2149a-f2ee-4799-b6c0-988258e1c390"
    }
   },
   "outputs": [
    {
     "name": "stdout",
     "output_type": "stream",
     "text": [
      "0.964285714286\n",
      "[2]\n"
     ]
    },
    {
     "name": "stderr",
     "output_type": "stream",
     "text": [
      "/home/jayanth/anaconda2/lib/python2.7/site-packages/sklearn/utils/validation.py:386: DeprecationWarning: Passing 1d arrays as data is deprecated in 0.17 and willraise ValueError in 0.19. Reshape your data either using X.reshape(-1, 1) if your data has a single feature or X.reshape(1, -1) if it contains a single sample.\n",
      "  DeprecationWarning)\n"
     ]
    }
   ],
   "source": [
    "%matplotlib nbagg\n",
    "import numpy as np\n",
    "from sklearn import preprocessing, cross_validation, neighbors\n",
    "import pandas as pd\n",
    "\n",
    "df = pd.read_csv('breast-cancer-wisconsin.data')\n",
    "df.replace('?',-99999, inplace = True)\n",
    "df.drop(['id'],1,inplace=True)\n",
    "x = np.array(df.drop(['class'],1))\n",
    "y = np.array(df['class'])\n",
    "\n",
    "x_train, x_test, y_train, y_test = cross_validation.train_test_split(x,y,test_size=0.2)\n",
    "clf = neighbors.KNeighborsClassifier()\n",
    "clf.fit(x_train,y_train)\n",
    "accuracy = clf.score(x_test,y_test)\n",
    "print(accuracy)\n",
    "\n",
    "example_measures = np.array([4,2,1,1,1,2,3,2,1])\n",
    "\n",
    "prediction = clf.predict(example_measures)\n",
    "print(prediction)\n",
    "\n",
    "\n"
   ]
  }
 ],
 "metadata": {
  "kernelspec": {
   "display_name": "Python [Root]",
   "language": "python",
   "name": "Python [Root]"
  },
  "language_info": {
   "codemirror_mode": {
    "name": "ipython",
    "version": 2
   },
   "file_extension": ".py",
   "mimetype": "text/x-python",
   "name": "python",
   "nbconvert_exporter": "python",
   "pygments_lexer": "ipython2",
   "version": "2.7.12"
  },
  "nbpresent": {
   "slides": {
    "5244376c-8b2a-4e11-9bb5-5311eb0cc300": {
     "id": "5244376c-8b2a-4e11-9bb5-5311eb0cc300",
     "prev": "73a4f8a9-deb9-41fb-bbd2-85b0eb6c2937",
     "regions": {
      "94420462-2e43-45b4-b8b2-57f77d376a0e": {
       "attrs": {
        "height": 0.8,
        "width": 0.8,
        "x": 0.1,
        "y": 0.1
       },
       "content": {
        "cell": "f8c2149a-f2ee-4799-b6c0-988258e1c390",
        "part": "whole"
       },
       "id": "94420462-2e43-45b4-b8b2-57f77d376a0e"
      }
     }
    },
    "73a4f8a9-deb9-41fb-bbd2-85b0eb6c2937": {
     "id": "73a4f8a9-deb9-41fb-bbd2-85b0eb6c2937",
     "prev": null,
     "regions": {
      "2269d828-ed86-4a46-b953-a7a0434455bd": {
       "attrs": {
        "height": 0.8,
        "width": 0.8,
        "x": 0.1,
        "y": 0.1
       },
       "content": {
        "cell": "a00b1b77-c248-49ef-815d-a70b08b2aca5",
        "part": "whole"
       },
       "id": "2269d828-ed86-4a46-b953-a7a0434455bd"
      }
     }
    }
   },
   "themes": {}
  }
 },
 "nbformat": 4,
 "nbformat_minor": 0
}
