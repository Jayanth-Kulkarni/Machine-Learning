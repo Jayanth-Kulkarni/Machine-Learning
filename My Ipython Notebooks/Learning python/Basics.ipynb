{
 "cells": [
  {
   "cell_type": "markdown",
   "metadata": {},
   "source": [
    "# Basic Strings"
   ]
  },
  {
   "cell_type": "code",
   "execution_count": 1,
   "metadata": {
    "collapsed": false
   },
   "outputs": [
    {
     "name": "stdout",
     "output_type": "stream",
     "text": [
      "hello\n",
      "hello\n",
      "there\n",
      "0.875\n",
      "45\n",
      "423\n",
      "hello 42\n",
      "let's go\n"
     ]
    }
   ],
   "source": [
    "print 'hello'\n",
    "x = 'hello'\n",
    "y = 'there'\n",
    "print x\n",
    "print y\n",
    "7*8\n",
    "7+8\n",
    "7/8\n",
    "7.0/8\n",
    "from __future__ import division\n",
    "print 7/8\n",
    "x = '42'\n",
    "y = 3\n",
    "print int(x)+y\n",
    "x = '42'\n",
    "y = 3\n",
    "print x + str(y)\n",
    "x = 'hello'\n",
    "y = 42\n",
    "z = 'there'\n",
    "print x, y\n",
    "x +' '+ z\n",
    "print 'let\\'s go'"
   ]
  },
  {
   "cell_type": "markdown",
   "metadata": {},
   "source": [
    "# Use of while loop"
   ]
  },
  {
   "cell_type": "code",
   "execution_count": 2,
   "metadata": {
    "collapsed": false
   },
   "outputs": [
    {
     "name": "stdout",
     "output_type": "stream",
     "text": [
      "x is less than 5\n",
      "x is less than 5\n",
      "x is less than 5\n",
      "x is less than 5\n"
     ]
    }
   ],
   "source": [
    "x = 1\n",
    "while x < 5:\n",
    "    print 'x is less than 5'\n",
    "    x +=1 "
   ]
  },
  {
   "cell_type": "markdown",
   "metadata": {},
   "source": [
    "# Use of For loop"
   ]
  },
  {
   "cell_type": "code",
   "execution_count": 3,
   "metadata": {
    "collapsed": false
   },
   "outputs": [
    {
     "name": "stdout",
     "output_type": "stream",
     "text": [
      "python is nifty\n",
      "python is powerful\n",
      "python is awesome\n",
      "python is the best language\n"
     ]
    }
   ],
   "source": [
    "x = ['nifty','powerful','awesome','the best language']\n",
    "\n",
    "for item in x:\n",
    "    print 'python is',item"
   ]
  },
  {
   "cell_type": "markdown",
   "metadata": {},
   "source": [
    "# Functions in Python"
   ]
  },
  {
   "cell_type": "code",
   "execution_count": 4,
   "metadata": {
    "collapsed": false
   },
   "outputs": [
    {
     "name": "stdout",
     "output_type": "stream",
     "text": [
      "as simple as it gets\n",
      "may hay while the sun shines\n",
      "Jayanth as simple as it gets\n",
      "Jayanth may hay while the sun shines\n",
      "Enter first number to multiply: 10\n",
      "Enter second number to multiply: 20\n",
      "math multiplication of: 10 X 20\n",
      "200\n"
     ]
    }
   ],
   "source": [
    "def learnFunctions():\n",
    "    print 'as simple as it gets'\n",
    "    print 'may hay while the sun shines'\n",
    "\n",
    "def learnFunctions1(name):\n",
    "    print name,'as simple as it gets'\n",
    "    print name,'may hay while the sun shines'\n",
    "learnFunctions()\n",
    "learnFunctions1(\"Jayanth\")\n",
    "\n",
    "def mult(d1,d2):\n",
    "    print 'math multiplication of:',d1,'X',d2\n",
    "    print d1*d2\n",
    "\n",
    "def main():\n",
    "    num1 = int(input('Enter first number to multiply: '))\n",
    "    num2 = int(input('Enter second number to multiply: '))\n",
    "    mult(num1,num2)\n",
    "    \n",
    "main()\n"
   ]
  },
  {
   "cell_type": "markdown",
   "metadata": {
    "collapsed": true
   },
   "source": [
    "# Sql Database with python"
   ]
  },
  {
   "cell_type": "code",
   "execution_count": 5,
   "metadata": {
    "collapsed": false
   },
   "outputs": [
    {
     "name": "stdout",
     "output_type": "stream",
     "text": [
      "(1, 1473704725.970741, u'2016-09-12 23:55:25', u'Python', 7.0)\n",
      "(1, 1473704732.935936, u'2016-09-12 23:55:32', u'Python', 7.0)\n"
     ]
    }
   ],
   "source": [
    "import sqlite3\n",
    "import time\n",
    "import datetime\n",
    "\n",
    "conn = sqlite3.connect('tutorial.db')\n",
    "c = conn.cursor()\n",
    "sql = \"SELECT * FROM stuffToPlot WHERE keyword =?\"\n",
    "\n",
    "wordUsed = 'Python'\n",
    "\n",
    "def tablecreate():\n",
    "    c.execute(\"CREATE TABLE stuffToPlot(ID INT,unix REAL,datestamp TEXT,keyword TEXT,value REAL)\")\n",
    "\n",
    "\n",
    "#time.time is unix time which can be organized later. number of seconds after jan 1st 1970\n",
    "\n",
    "idfordb = 1\n",
    "keyword = 'Python'\n",
    "value = 7\n",
    "\n",
    "\n",
    "#tablecreate() already created\n",
    "def dataEntry():\n",
    "    date = str(datetime.datetime.fromtimestamp(int(time.time())).strftime('%Y-%m-%d %H:%M:%S'))\n",
    "    c.execute(\"INSERT INTO stufftoPlot (ID,unix,datestamp,keyword,value) VALUES (?,?,?,?,?)\",\n",
    "              (idfordb,time.time(),date,keyword,value))\n",
    "    conn.commit()\n",
    "\n",
    "#dataEntry()\n",
    "\n",
    "def readData():\n",
    "    for row in c.execute(sql,[(wordUsed)]):\n",
    "        print row\n",
    "\n",
    "readData()"
   ]
  },
  {
   "cell_type": "markdown",
   "metadata": {
    "collapsed": true
   },
   "source": [
    "# Dictionaries in Python"
   ]
  },
  {
   "cell_type": "code",
   "execution_count": 6,
   "metadata": {
    "collapsed": false
   },
   "outputs": [
    {
     "name": "stdout",
     "output_type": "stream",
     "text": [
      "{'Beth': 22, 'john': 12, 'Max': 14}\n",
      "22\n",
      "12\n",
      "14\n",
      "{'Beth': 22, 'john': 12, 'Max': 14}\n",
      "{'Beth': 22, 'brotha': 16, 'john': 12, 'Max': 14}\n",
      "{'Beth': 22, 'brotha': 26, 'john': 12, 'Max': 14}\n",
      "{'Beth': 22, 'brotha': 26, 'john': 12, 'raju': '23', 'Max': 14}\n"
     ]
    }
   ],
   "source": [
    "epicDict = {'john':12, 'Beth':22, 'Max':14}\n",
    "print epicDict\n",
    "print epicDict['Beth']\n",
    "x = 'john'\n",
    "\n",
    "def fun(x):\n",
    "    print epicDict[x]\n",
    "fun(x)\n",
    "fun('Max')\n",
    "\n",
    "def insert():\n",
    "    epicDict['brotha'] = 16\n",
    "def insert2():\n",
    "    epicDict['brotha'] = 26\n",
    "def insert3(key1,value1):\n",
    "    epicDict[key1] = value1\n",
    "\n",
    "print epicDict\n",
    "\n",
    "insert()\n",
    "print epicDict\n",
    "\n",
    "insert2()\n",
    "print epicDict\n",
    "\n",
    "insert3('raju','23')\n",
    "print epicDict\n",
    "\n"
   ]
  },
  {
   "cell_type": "markdown",
   "metadata": {},
   "source": [
    "# Try and Except"
   ]
  },
  {
   "cell_type": "code",
   "execution_count": 12,
   "metadata": {
    "collapsed": false
   },
   "outputs": [
    {
     "name": "stdout",
     "output_type": "stream",
     "text": [
      "unsupported operand type(s) for +: 'int' and 'str'\n",
      "we failed\n",
      "hello,we continued with the script!\n"
     ]
    }
   ],
   "source": [
    "def main():\n",
    "    try:\n",
    "        print 1+'hello'\n",
    "    except Exception,e:\n",
    "        print str(e)\n",
    "        print 'we failed'\n",
    "    print 'hello,we continued with the script!'\n",
    "main()"
   ]
  },
  {
   "cell_type": "markdown",
   "metadata": {},
   "source": [
    "# Else if and Elif"
   ]
  },
  {
   "cell_type": "markdown",
   "metadata": {},
   "source": [
    "def main():\n",
    "    if 1 > 2:\n",
    "        print 'whoa'\n",
    "    if 2 > 3:\n",
    "        print 'what is wrong with you !!?'\n",
    "    else:\n",
    "        if 4>5:\n",
    "            print 'omg'\n",
    "        print 'things are normal'\n",
    "        \n",
    "#elif is run only if the other 2 if's dont execute\n",
    "def main2():\n",
    "    if 1 > 2:\n",
    "        print 'whoa'\n",
    "    if 2 > 3:\n",
    "        print 'what is wrong with you !!?'\n",
    "    elif 4>5:\n",
    "        print 'omg'\n",
    "    print 'things are normal'\n",
    "        \n",
    "main()\n",
    "main2()"
   ]
  },
  {
   "cell_type": "markdown",
   "metadata": {},
   "source": [
    "# Reading from a file"
   ]
  },
  {
   "cell_type": "code",
   "execution_count": 26,
   "metadata": {
    "collapsed": false
   },
   "outputs": [
    {
     "name": "stdout",
     "output_type": "stream",
     "text": [
      "ramesh\n",
      "suresh\n",
      "rahul\n",
      "gandhi\n",
      "suraj\n",
      "sagar\n",
      "santosh\n",
      "varun\n",
      "skanda\n",
      "satya\n"
     ]
    }
   ],
   "source": [
    "def main():\n",
    "    openVar = open('Names.txt','r').read()\n",
    "    print openVar\n",
    "main()\n",
    "    "
   ]
  },
  {
   "cell_type": "markdown",
   "metadata": {},
   "source": [
    "# Writing to File"
   ]
  },
  {
   "cell_type": "code",
   "execution_count": 32,
   "metadata": {
    "collapsed": true
   },
   "outputs": [],
   "source": [
    "def main():\n",
    "    stuffToWrite = 'write this new stuff to the \\n textfile'\n",
    "    writeFile = open('writtenFile.txt','w')\n",
    "    writeTo = writeFile.write(stuffToWrite)\n",
    "    writeFile.close()\n",
    "main()"
   ]
  },
  {
   "cell_type": "markdown",
   "metadata": {},
   "source": [
    "# Append to File\n",
    "\n",
    "Can be used as Log files in case of try and except"
   ]
  },
  {
   "cell_type": "code",
   "execution_count": 35,
   "metadata": {
    "collapsed": true
   },
   "outputs": [],
   "source": [
    "varToAppend = 'appended!'\n",
    "\n",
    "appendFile = open('appendToMe.txt','a')\n",
    "appendFile.write(varToAppend)\n",
    "appendFile.close()"
   ]
  },
  {
   "cell_type": "markdown",
   "metadata": {},
   "source": [
    "# Converting datestamp to UnixTimestamp "
   ]
  },
  {
   "cell_type": "code",
   "execution_count": 1,
   "metadata": {
    "collapsed": false
   },
   "outputs": [
    {
     "name": "stdout",
     "output_type": "stream",
     "text": [
      "1473752620.0\n",
      "1473705000.0\n"
     ]
    }
   ],
   "source": [
    "from datetime import datetime\n",
    "from time import mktime\n",
    "\n",
    "date = 'Today is Tuesday, September 13th 2016'\n",
    "\n",
    "def main():\n",
    "    unixTime = datetime.strptime(date,'Today is %A, %B %dth %Y')\n",
    "    converted = mktime(unixTime.timetuple())\n",
    "    converted2 = mktime(datetime.now().timetuple())\n",
    "    print converted2\n",
    "    print converted\n",
    "\n",
    "main()"
   ]
  },
  {
   "cell_type": "markdown",
   "metadata": {},
   "source": [
    "# Logging \n",
    "\n",
    "1. Debug - detailed info\n",
    "2. info - confirmation that things according to plan\n",
    "3. warning - something unexpected \n",
    "4. error - some function failed\n",
    "5. critical - something failed application must close."
   ]
  },
  {
   "cell_type": "code",
   "execution_count": null,
   "metadata": {
    "collapsed": true
   },
   "outputs": [],
   "source": [
    "import logging\n",
    "\n",
    "\n",
    "\n",
    "logging.basicConfig(filenema='logfile.log',level=logging.DEBUG)"
   ]
  }
 ],
 "metadata": {
  "kernelspec": {
   "display_name": "Python [Root]",
   "language": "python",
   "name": "Python [Root]"
  },
  "language_info": {
   "codemirror_mode": {
    "name": "ipython",
    "version": 2
   },
   "file_extension": ".py",
   "mimetype": "text/x-python",
   "name": "python",
   "nbconvert_exporter": "python",
   "pygments_lexer": "ipython2",
   "version": "2.7.12"
  }
 },
 "nbformat": 4,
 "nbformat_minor": 0
}
