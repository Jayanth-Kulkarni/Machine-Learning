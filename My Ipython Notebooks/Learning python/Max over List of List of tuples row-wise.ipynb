{
 "cells": [
  {
   "cell_type": "code",
   "execution_count": 2,
   "metadata": {
    "collapsed": true
   },
   "outputs": [],
   "source": [
    "A =[[(1, 52), (1, 12), (-1, -1),(1, 52), (1, 12), (-1, -1)],\n",
    "[(-1, 23), (1, 42), (-1, -1),(-1, 23), (1, 42), (-1, -1)],\n",
    "[(1, -1), (-1, -1), (1, 42),(1, -1), (-1, -1), (1, 42)]]\n"
   ]
  },
  {
   "cell_type": "code",
   "execution_count": 4,
   "metadata": {},
   "outputs": [
    {
     "data": {
      "text/plain": [
       "[[(1, 52), (1, 12), (-1, -1), (1, 52), (1, 12), (-1, -1)],\n",
       " [(-1, 23), (1, 42), (-1, -1), (-1, 23), (1, 42), (-1, -1)],\n",
       " [(1, -1), (-1, -1), (1, 42), (1, -1), (-1, -1), (1, 42)]]"
      ]
     },
     "execution_count": 4,
     "metadata": {},
     "output_type": "execute_result"
    }
   ],
   "source": [
    "A"
   ]
  },
  {
   "cell_type": "code",
   "execution_count": 6,
   "metadata": {},
   "outputs": [
    {
     "data": {
      "text/plain": [
       "[(1, 52), (1, 42), (1, 42), (1, 52), (1, 42), (1, 42)]"
      ]
     },
     "execution_count": 6,
     "metadata": {},
     "output_type": "execute_result"
    }
   ],
   "source": [
    "[max(a,key=lambda x:x[1]) for a in zip(*A)]\n",
    "[max(a,key=lambda x:x[1]) for a in A[l:u] l=l+4 u=u+4]"
   ]
  },
  {
   "cell_type": "code",
   "execution_count": 12,
   "metadata": {},
   "outputs": [
    {
     "data": {
      "text/plain": [
       "[(1, 52)]"
      ]
     },
     "execution_count": 12,
     "metadata": {},
     "output_type": "execute_result"
    }
   ],
   "source": [
    "[max(a,key=lambda x:x[1]) for idx,a in enumerate(A[0:len(A):3])]"
   ]
  },
  {
   "cell_type": "code",
   "execution_count": 15,
   "metadata": {},
   "outputs": [
    {
     "name": "stdout",
     "output_type": "stream",
     "text": [
      "[(1, 52), (1, 12), (-1, -1), (1, 52), (1, 12), (-1, -1)]\n",
      "\n",
      "\n",
      "[(1, -1), (-1, -1), (1, 42), (1, -1), (-1, -1), (1, 42)]\n",
      "\n",
      "\n"
     ]
    }
   ],
   "source": [
    "for a in A[0:len(A):2]:\n",
    "    print a\n",
    "    print \"\\n\""
   ]
  },
  {
   "cell_type": "code",
   "execution_count": 46,
   "metadata": {},
   "outputs": [
    {
     "name": "stdout",
     "output_type": "stream",
     "text": [
      "[(1, 52), (1, 12)]\n",
      "Done\n",
      "[(-1, -1), (1, 52)]\n",
      "Done\n",
      "[(1, 12), (-1, -1)]\n",
      "Done\n",
      "[(-1, 23), (1, 42)]\n",
      "Done\n",
      "[(-1, -1), (-1, 23)]\n",
      "Done\n",
      "[(1, 42), (-1, -1)]\n",
      "Done\n",
      "[(1, -1), (-1, -1)]\n",
      "Done\n",
      "[(1, 42), (1, -1)]\n",
      "Done\n",
      "[(-1, -1), (1, 42)]\n",
      "Done\n"
     ]
    }
   ],
   "source": [
    "for i in range(0,len(A)):\n",
    "    for n in range(0, len(A[i]), 2):\n",
    "        print A[i][n:n+2]\n",
    "        print \"Done\""
   ]
  },
  {
   "cell_type": "code",
   "execution_count": 43,
   "metadata": {},
   "outputs": [
    {
     "name": "stdout",
     "output_type": "stream",
     "text": [
      "[(1, 52), (1, 52), (1, 12), (1, 42), (-1, 23), (1, 42), (1, -1), (1, 42), (1, 42)]\n"
     ]
    }
   ],
   "source": [
    "subList = [max(A[i][n:n+2],key=lambda x:x[1]) for i in range(0,len(A)) for n in range(0, len(A[0]), 2)]\n",
    "print subList"
   ]
  }
 ],
 "metadata": {
  "kernelspec": {
   "display_name": "Python 2",
   "language": "python",
   "name": "python2"
  },
  "language_info": {
   "codemirror_mode": {
    "name": "ipython",
    "version": 2
   },
   "file_extension": ".py",
   "mimetype": "text/x-python",
   "name": "python",
   "nbconvert_exporter": "python",
   "pygments_lexer": "ipython2",
   "version": "2.7.12"
  }
 },
 "nbformat": 4,
 "nbformat_minor": 2
}
